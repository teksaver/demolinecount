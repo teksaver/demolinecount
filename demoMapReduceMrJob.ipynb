{
 "cells": [
  {
   "cell_type": "markdown",
   "metadata": {},
   "source": [
    "# Map / Reduce en python avec mrjob\n",
    "\n",
    "## Prérequis : installation de mrjob avec Anaconda\n",
    "\n",
    "### Ajout de conda-forge comme canal de distribution\n",
    "\n",
    "Dans le navigateur Anaconda, \n",
    "\n",
    "1. cliquer sur `Channels` puis `Add`.\n",
    "2. Dans la boite de dialogue, saisir `conda-forge` puis valider.\n",
    "3. Rafraichir l'index en cliquant sur le bouton `Update index...`. \n",
    "\n",
    "Alternativement, en ligne de commande, selon la [documentation](https://conda-forge.org/) :\n",
    "\n",
    "```\n",
    "conda config --add channels conda-forge\n",
    "conda config --set channel_priority strict\n",
    "conda install -c conda-forge mrjob \n",
    "```\n",
    "\n",
    "### Installation de mr-job\n",
    "\n",
    "Dans la boite de recherche à côté du bouton `Update index...` saisir `mrjob` puis valider.\n",
    "\n",
    "## Exemple canonique : le word frequency count\n",
    "\n",
    "La [documentation](https://mrjob.readthedocs.io/en/latest/guides/quickstart.html#writing-your-first-job) fournit un premier exemple qui calcule et retourne le nombre de caractères, de mots et de lignes.\n",
    "\n",
    "Afin de pouvoir exécuter l'exemple depuis le notebook nous \n",
    "- ajoutons l'instruction `%%file wordcount.py`\n",
    "- déplaçons le `run`dans une autre cellule\n",
    "\n",
    "(Explication : https://stackoverflow.com/questions/24701101/run-mrjob-from-ipython-notebook/33357944)"
   ]
  },
  {
   "cell_type": "code",
   "execution_count": null,
   "metadata": {},
   "outputs": [],
   "source": [
    "%%file comptageDistribue.py\n",
    "from mrjob.job import MRJob\n",
    "\n",
    "class MRWordFrequencyCount(MRJob):\n",
    "\n",
    "    def mapper(self, _, line):\n",
    "        yield \"chars\", len(line)\n",
    "        yield \"mots\", len(line.split())\n",
    "        yield \"lignes\", 1\n",
    "\n",
    "    def reducer(self, key, values):\n",
    "        yield key, sum(values)\n"
   ]
  },
  {
   "cell_type": "markdown",
   "metadata": {},
   "source": [
    "Ce code fournit 2 méthodes\n",
    "- `mapper` génère, pour chaque ligne du texte, 3 couples (clé/valeur) dont les valeurs respectives sont le nombre de caractères, de mots et le nombre 1 (car on traite une ligne)\n",
    "- `reducer` effectue, pour chaque clé, la somme des valeurs générées par le mapper pour chaque ligne - donc la somme des caractères, des mots et des lignes\n",
    "\n",
    "Il nous reste à appeler le code depuis la cellule suivante. Nous nous appuyons sur la documentation qui explique comment lancer le programme [de manière programmatique](https://mrjob.readthedocs.io/en/latest/guides/runners.html#running-your-job-programmatically).\n",
    "\n",
    "Nous ajoutons l'import du fichier généré dans la cellule précédente\n"
   ]
  },
  {
   "cell_type": "code",
   "execution_count": null,
   "metadata": {},
   "outputs": [],
   "source": [
    "from importlib import reload\n",
    "import comptageDistribue\n",
    "reload(comptageDistribue)\n",
    "\n",
    "mr_job = comptageDistribue.MRWordFrequencyCount(args=['Data/Le Corbeau et le Renard.txt'])\n",
    "with mr_job.make_runner() as runner:\n",
    "     runner.run()\n",
    "     for key, value in mr_job.parse_output(runner.cat_output()):\n",
    "        print(key, value)"
   ]
  },
  {
   "cell_type": "markdown",
   "metadata": {},
   "source": [
    "## Application au comptage des mots\n",
    "\n",
    "Nous modifions l'exemple précédent de la manière suivante\n",
    "\n",
    "- Le fichier généré s'appelle désormais comptage.py\n",
    "- La classe s'appelle ComptageDesMots\n",
    "- Un couple clé/valeur est généré pour chaque *mot* "
   ]
  },
  {
   "cell_type": "code",
   "execution_count": null,
   "metadata": {},
   "outputs": [],
   "source": [
    "%%file comptage.py\n",
    "import string\n",
    "from mrjob.job import MRJob\n",
    "\n",
    "class ComptageDesMots(MRJob):\n",
    "\n",
    "    def mapper(self, _, ligne):\n",
    "        ligneNettoyee = ligne.translate(str.maketrans('', '', string.punctuation))\n",
    "        listeDeMots=ligneNettoyee.split()\n",
    "        for mot in listeDeMots:\n",
    "            yield mot, 1\n",
    "    \n",
    "    def reducer(self, key, values):\n",
    "        yield key, sum(values)"
   ]
  },
  {
   "cell_type": "markdown",
   "metadata": {},
   "source": [
    "Comme pour l'exemple précédent, l'exécution est lancée depuis une autre cellule afin de respecter le fonctionnement d'Hadoop, où le code est *transmis* là où se situent les données."
   ]
  },
  {
   "cell_type": "code",
   "execution_count": null,
   "metadata": {},
   "outputs": [],
   "source": [
    "from importlib import reload\n",
    "import comptage\n",
    "reload(comptage)\n",
    "\n",
    "mr_job = comptage.ComptageDesMots(args=['Data/Le Corbeau et le Renard.txt'])\n",
    "with mr_job.make_runner() as runner:\n",
    "     runner.run()\n",
    "     for key, value in mr_job.parse_output(runner.cat_output()):\n",
    "        print(key, value)"
   ]
  },
  {
   "cell_type": "markdown",
   "metadata": {},
   "source": [
    "# Conclusion\n",
    "\n",
    "Le programme de ce notebook peut être exécuté sur un véritable cluster Hadoop et traiter plusieurs milliards de lignes comme il a pu traiter de la fable\n",
    "\n",
    "Pouvez-vous finaliser le travail\n",
    "1. en produisant la même sortie que l'exemple \"python base\", en n'affichant que le top 10 des mots les plus fréquents ?\n",
    "2. ignorer la casse pour que chaque mot ne soit compté qu'une fois, qu'il apparaisse en minuscules ou majuscules\n",
    "\n",
    "Appuyez-vous sur la [documentation](https://kite.com/python/docs/mrjob.job.MRJob.parse_output) de `parse-output` : "
   ]
  },
  {
   "cell_type": "code",
   "execution_count": null,
   "metadata": {},
   "outputs": [],
   "source": [
    "from importlib import reload\n",
    "import comptage\n",
    "reload(comptage)\n",
    "\n",
    "mr_job = comptage.ComptageDesMots(args=['Data/Le Corbeau et le Renard.txt'])\n",
    "with mr_job.make_runner() as runner:\n",
    "    runner.run()\n",
    "    res = mr_job.parse_output(runner.cat_output())\n",
    "    \n",
    "    # à vous ! utilisation du générateur res...\n"
   ]
  }
 ],
 "metadata": {
  "kernelspec": {
   "display_name": "Python 3 (ipykernel)",
   "language": "python",
   "name": "python3"
  },
  "language_info": {
   "codemirror_mode": {
    "name": "ipython",
    "version": 3
   },
   "file_extension": ".py",
   "mimetype": "text/x-python",
   "name": "python",
   "nbconvert_exporter": "python",
   "pygments_lexer": "ipython3",
   "version": "3.9.6"
  }
 },
 "nbformat": 4,
 "nbformat_minor": 4
}
