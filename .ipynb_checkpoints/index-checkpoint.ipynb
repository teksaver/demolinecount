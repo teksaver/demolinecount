{
 "cells": [
  {
   "cell_type": "markdown",
   "metadata": {},
   "source": [
    "# Démo : comptage du nombre de lignes en Python simple\n",
    "\n",
    "## Vérification de la version de python\n",
    "\n",
    "Python a connu une transition douloureuse entre la version 2 et la version 3.. vérifions que nous avons bien accès à la bonne version !\n",
    "\n",
    "Pour exécuter le code d'une cellule, cliquez dedans et cliquez sur *Exécuter*\n",
    "\n",
    "Vous pouvez également utiliser le raccourci clavier *shift + Entrée*"
   ]
  },
  {
   "cell_type": "code",
   "execution_count": 25,
   "metadata": {},
   "outputs": [
    {
     "name": "stdout",
     "output_type": "stream",
     "text": [
      "Ça fonctionne de nouveau ! Nous utilisons Python 3.9.6 | packaged by conda-forge | (default, Jul 11 2021, 03:36:15) \n",
      "[Clang 11.1.0 ]\n"
     ]
    }
   ],
   "source": [
    "# Active l'autocompletion pour aider à l'écriture du code\n",
    "%config IPCompleter.greedy=True\n",
    "# Charge les fonctions système de python\n",
    "import sys\n",
    "# Affiche la version de Python utilisée\n",
    "print(f'Ça fonctionne de nouveau ! Nous utilisons Python {sys.version}')"
   ]
  },
  {
   "cell_type": "markdown",
   "metadata": {},
   "source": [
    "Si le code s'affiche sans erreur, vous utilisez bien Python 3.6 ou supérieur. En cas de problème, téléchargez et installez [la dernière version d'Anaconda](https://www.anaconda.com/products/individual). Assurez-vous de bien télécharger la version pour Python 3.x correspondant à votre ordinateur (Linux, Mac ou Windows).\n",
    "\n",
    "## Ouverture et affichage du fichier\n",
    "\n",
    "L'ouverture d'un fichier consiste à le rendre ses données disponibles pour le programme. Cela s'effectue en utilisant une fonction de la librairie standard, à laquelle on fournit l'emplacement du fichier.\n",
    "\n",
    "Pour trouver de quelle fonction il s'agit, rendez-vous sur la documentation sur les entrées-sorties ! https://docs.python.org/3.9/tutorial/inputoutput.html\n",
    "\n",
    "Avez-vous repéré la fonction *open* ? Nous y trouvons également les fonctions permettant de lire et afficher le contenu : *read* et *print* :"
   ]
  },
  {
   "cell_type": "code",
   "execution_count": 26,
   "metadata": {},
   "outputs": [
    {
     "name": "stdout",
     "output_type": "stream",
     "text": [
      "Maître Faucon, sur     un arbre perché,\n",
      "Tenait en son bec un fromage.\n",
      "Maître Renard, par l'odeur alléché,\n",
      "Lui tint à peu près ce langage :\n",
      "Et bonjour, Monsieur du Corbeau.\n",
      "Que vous êtes joli ! que vous me semblez beau !\n",
      "Sans mentir, si votre ramage\n",
      "Se rapporte à votre plumage,\n",
      "Vous êtes le Phénix des hôtes de ces bois.\n",
      "À ces mots, le Corbeau ne se sent pas de joie ;\n",
      "Et pour montrer sa belle voix,\n",
      "Il ouvre un large bec, laisse tomber sa proie.\n",
      "Le Renard s'en saisit, et dit : Mon bon Monsieur,\n",
      "Apprenez que tout flatteur\n",
      "Vit aux dépens de celui qui l'écoute.\n",
      "Cette leçon vaut bien un fromage, sans doute.\n",
      "Le Corbeau honteux et confus\n",
      "Jura, mais un peu tard, qu'on ne l'y prendrait plus.\n"
     ]
    }
   ],
   "source": [
    "with open('Data/Le Corbeau et le Renard.txt') as monFichier:\n",
    "    toutLeFichier=monFichier.read()\n",
    "    print(toutLeFichier)\n"
   ]
  },
  {
   "cell_type": "markdown",
   "metadata": {},
   "source": [
    "\n",
    "\n",
    "Que sont *monFichier* et *toutLeFichier* ?\n",
    "\n",
    "Il s'agit de *variables*. Selon [Wikibooks](https://fr.wikibooks.org/wiki/Programmation_Python/Variables) : \n",
    "\n",
    "```\n",
    "Une variable est un espace mémoire dans lequel il est possible de mettre une valeur. Par exemple, si en français je dis x est égal à 1, j'utilise la variable dont le nom est x pour lui fixer la valeur 1. Pour faire la même chose en Python, je note simplement : x = 1.\n",
    "\n",
    "Cette opération est appelée \"affectation\" (ou \"assignation\"), et consiste à stocker une valeur en mémoire vive de l'ordinateur. On dit donc que l'on procède à l'affectation de la variable \"x\" avec la valeur \"1\".\n",
    "```\n",
    "\n",
    "Mais quelle est vraiment la nature de la variable *toutLeFichier* ? la fonction `type` est là pour nous aider \n",
    "\n"
   ]
  },
  {
   "cell_type": "code",
   "execution_count": 27,
   "metadata": {},
   "outputs": [
    {
     "data": {
      "text/plain": [
       "str"
      ]
     },
     "execution_count": 27,
     "metadata": {},
     "output_type": "execute_result"
    }
   ],
   "source": [
    "    type(toutLeFichier)\n"
   ]
  },
  {
   "cell_type": "markdown",
   "metadata": {
    "tags": []
   },
   "source": [
    "Le fichier a été chargé dans une chaine de caractères. Nous pouvons donc déterminer son nombre de lignes soit\n",
    "\n",
    "- en parcourant le fichier caractère par caractère et en comptant le nombre de caractères de fin de ligne\n",
    "- en créant un tableau dont chaque entrée est une ligne et en comptant le nombre d'éléments du tableau\n",
    "\n",
    "Nous allons tester les 2 méthodes\n",
    "\n",
    "## Parcours du fichier caractère par caractère\n"
   ]
  },
  {
   "cell_type": "code",
   "execution_count": 28,
   "metadata": {},
   "outputs": [
    {
     "name": "stdout",
     "output_type": "stream",
     "text": [
      "fin de ligne !\n",
      "fin de ligne !\n",
      "fin de ligne !\n",
      "fin de ligne !\n",
      "fin de ligne !\n",
      "fin de ligne !\n",
      "fin de ligne !\n",
      "fin de ligne !\n",
      "fin de ligne !\n",
      "fin de ligne !\n",
      "fin de ligne !\n",
      "fin de ligne !\n",
      "fin de ligne !\n",
      "fin de ligne !\n",
      "fin de ligne !\n",
      "fin de ligne !\n",
      "fin de ligne !\n",
      "Il y a 18 lignes dans le fichier\n"
     ]
    }
   ],
   "source": [
    "# Déclaration d'une variable pour compter le nombre de lignes\n",
    "# On l'initialise à 1 car s'il n'y a qu'une ligne il y a 0 caractère de fin de ligne\n",
    "nombreFinDeLignes=1\n",
    "\n",
    "#Parcours de la chaine caractère par caractère\n",
    "for caractere in toutLeFichier:\n",
    "    #Si on tombe sur un caractère de fin de ligne, on ajoute 1 au total et on affiche l'information\n",
    "    if (caractere==('\\n')):\n",
    "        print(\"fin de ligne !\")\n",
    "        nombreFinDeLignes+=1\n",
    "        \n",
    "#Une fois qu'on a fini le parcours, on affiche le résultat final\n",
    "print(f'Il y a {nombreFinDeLignes} lignes dans le fichier')\n",
    "  "
   ]
  },
  {
   "cell_type": "markdown",
   "metadata": {},
   "source": [
    "## Utilisation d'un tableau"
   ]
  },
  {
   "cell_type": "code",
   "execution_count": 29,
   "metadata": {},
   "outputs": [
    {
     "name": "stdout",
     "output_type": "stream",
     "text": [
      "<class 'list'>\n",
      "il y a 18 lignes dans le tableau\n",
      "Ligne 1 : Maître Faucon, sur     un arbre perché,\n",
      "Ligne 2 : Tenait en son bec un fromage.\n",
      "Ligne 3 : Maître Renard, par l'odeur alléché,\n",
      "Ligne 4 : Lui tint à peu près ce langage :\n",
      "Ligne 5 : Et bonjour, Monsieur du Corbeau.\n",
      "Ligne 6 : Que vous êtes joli ! que vous me semblez beau !\n",
      "Ligne 7 : Sans mentir, si votre ramage\n",
      "Ligne 8 : Se rapporte à votre plumage,\n",
      "Ligne 9 : Vous êtes le Phénix des hôtes de ces bois.\n",
      "Ligne 10 : À ces mots, le Corbeau ne se sent pas de joie ;\n",
      "Ligne 11 : Et pour montrer sa belle voix,\n",
      "Ligne 12 : Il ouvre un large bec, laisse tomber sa proie.\n",
      "Ligne 13 : Le Renard s'en saisit, et dit : Mon bon Monsieur,\n",
      "Ligne 14 : Apprenez que tout flatteur\n",
      "Ligne 15 : Vit aux dépens de celui qui l'écoute.\n",
      "Ligne 16 : Cette leçon vaut bien un fromage, sans doute.\n",
      "Ligne 17 : Le Corbeau honteux et confus\n",
      "Ligne 18 : Jura, mais un peu tard, qu'on ne l'y prendrait plus.\n"
     ]
    }
   ],
   "source": [
    "# Utilisation de la méthode `splitlines` pour créer une liste de lignes\n",
    "listeDeLignes = toutLeFichier.splitlines()\n",
    "\n",
    "# vérification du type du résultat\n",
    "print(type(listeDeLignes))\n",
    "\n",
    "# affichage du nombre de lignes du tableau\n",
    "print(f'il y a {len(listeDeLignes)} lignes dans le tableau')\n",
    "\n",
    "# affichage de chaque ligne\n",
    "numeroLigne=1\n",
    "for ligne in listeDeLignes:\n",
    "    print(f'Ligne {numeroLigne} : {ligne}')\n",
    "    numeroLigne+=1"
   ]
  },
  {
   "cell_type": "markdown",
   "metadata": {},
   "source": [
    "# Limite de la démo\n",
    "\n",
    "Nous chargeons toutes les données en mémoire, pour au final travailler ligne par ligne... pourrait-on imaginer de traiter le fichier ligne après ligne, sans jamais le charger entièrement ?\n",
    "\n",
    "Une documentation utile : https://docs.python.org/3.9/tutorial/inputoutput.html#tut-files\n",
    "\n",
    "À vous d'essayer !\n"
   ]
  },
  {
   "cell_type": "code",
   "execution_count": 30,
   "metadata": {},
   "outputs": [
    {
     "name": "stdout",
     "output_type": "stream",
     "text": [
      "il y a 18 lignes dans le fichier\n"
     ]
    }
   ],
   "source": [
    "numeroLigne=1\n",
    "\n",
    "with open('Data/Le Corbeau et le Renard.txt') as monFichier:\n",
    "    toutLeFichier=monFichier.read() # ceci est couteux en mémoire !\n",
    "    listeDeLignes = toutLeFichier.splitlines() \n",
    "    # affichage de chaque ligne\n",
    "    for ligne in listeDeLignes:\n",
    "        numeroLigne+=1\n",
    "    print(f'il y a {len(listeDeLignes)} lignes dans le fichier')\n"
   ]
  }
 ],
 "metadata": {
  "kernelspec": {
   "display_name": "Python 3 (ipykernel)",
   "language": "python",
   "name": "python3"
  },
  "language_info": {
   "codemirror_mode": {
    "name": "ipython",
    "version": 3
   },
   "file_extension": ".py",
   "mimetype": "text/x-python",
   "name": "python",
   "nbconvert_exporter": "python",
   "pygments_lexer": "ipython3",
   "version": "3.9.6"
  }
 },
 "nbformat": 4,
 "nbformat_minor": 4
}
